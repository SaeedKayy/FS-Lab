{
 "cells": [
  {
   "cell_type": "code",
   "execution_count": 3,
   "id": "7dd85a95",
   "metadata": {},
   "outputs": [],
   "source": [
    "import pandas as pd \n",
    "import numpy as np\n",
    "#from sklearn import preprocessing"
   ]
  },
  {
   "cell_type": "markdown",
   "id": "aedd28af",
   "metadata": {},
   "source": [
    "# Q1: Apply Ordinal encoding."
   ]
  },
  {
   "cell_type": "code",
   "execution_count": 4,
   "id": "51138cc7",
   "metadata": {},
   "outputs": [],
   "source": [
    "df = pd.DataFrame({'names': ['ahmed', 'saeed', 'khalid', 'ali', 'faris'],\n",
    "                   'rating': ['Very Unhappy', 'Unhappy', 'Neutral', 'happy', 'Very Unhappy'],\n",
    "                  'salary': [7000, 5300, 8000, 11000, 15000]})"
   ]
  },
  {
   "cell_type": "code",
   "execution_count": 5,
   "id": "a4b7a94a",
   "metadata": {},
   "outputs": [
    {
     "data": {
      "text/plain": [
       "0    Very Unhappy\n",
       "1         Unhappy\n",
       "2         Neutral\n",
       "3           happy\n",
       "4    Very Unhappy\n",
       "Name: rating, dtype: object"
      ]
     },
     "execution_count": 5,
     "metadata": {},
     "output_type": "execute_result"
    }
   ],
   "source": [
    "from sklearn.preprocessing import OrdinalEncoder\n",
    "enc = OrdinalEncoder()\n",
    "fit = enc.fit_transform(df[['rating']])\n",
    "df['rating']"
   ]
  },
  {
   "cell_type": "code",
   "execution_count": 6,
   "id": "d1f3059b",
   "metadata": {},
   "outputs": [
    {
     "data": {
      "text/html": [
       "<div>\n",
       "<style scoped>\n",
       "    .dataframe tbody tr th:only-of-type {\n",
       "        vertical-align: middle;\n",
       "    }\n",
       "\n",
       "    .dataframe tbody tr th {\n",
       "        vertical-align: top;\n",
       "    }\n",
       "\n",
       "    .dataframe thead th {\n",
       "        text-align: right;\n",
       "    }\n",
       "</style>\n",
       "<table border=\"1\" class=\"dataframe\">\n",
       "  <thead>\n",
       "    <tr style=\"text-align: right;\">\n",
       "      <th></th>\n",
       "      <th>names</th>\n",
       "      <th>rating</th>\n",
       "      <th>salary</th>\n",
       "    </tr>\n",
       "  </thead>\n",
       "  <tbody>\n",
       "    <tr>\n",
       "      <th>0</th>\n",
       "      <td>ahmed</td>\n",
       "      <td>Very Unhappy</td>\n",
       "      <td>7000</td>\n",
       "    </tr>\n",
       "    <tr>\n",
       "      <th>1</th>\n",
       "      <td>saeed</td>\n",
       "      <td>Unhappy</td>\n",
       "      <td>5300</td>\n",
       "    </tr>\n",
       "    <tr>\n",
       "      <th>2</th>\n",
       "      <td>khalid</td>\n",
       "      <td>Neutral</td>\n",
       "      <td>8000</td>\n",
       "    </tr>\n",
       "    <tr>\n",
       "      <th>3</th>\n",
       "      <td>ali</td>\n",
       "      <td>happy</td>\n",
       "      <td>11000</td>\n",
       "    </tr>\n",
       "    <tr>\n",
       "      <th>4</th>\n",
       "      <td>faris</td>\n",
       "      <td>Very Unhappy</td>\n",
       "      <td>15000</td>\n",
       "    </tr>\n",
       "  </tbody>\n",
       "</table>\n",
       "</div>"
      ],
      "text/plain": [
       "    names        rating  salary\n",
       "0   ahmed  Very Unhappy    7000\n",
       "1   saeed       Unhappy    5300\n",
       "2  khalid       Neutral    8000\n",
       "3     ali         happy   11000\n",
       "4   faris  Very Unhappy   15000"
      ]
     },
     "execution_count": 6,
     "metadata": {},
     "output_type": "execute_result"
    }
   ],
   "source": [
    "df"
   ]
  },
  {
   "cell_type": "markdown",
   "id": "811de40c",
   "metadata": {},
   "source": [
    "# Q2: Apply One hot encoding."
   ]
  },
  {
   "cell_type": "code",
   "execution_count": 7,
   "id": "47b3cd25",
   "metadata": {},
   "outputs": [
    {
     "data": {
      "text/plain": [
       "array([[0., 0., 1., 0.],\n",
       "       [1., 0., 0., 0.],\n",
       "       [0., 1., 0., 0.],\n",
       "       [0., 0., 0., 1.]])"
      ]
     },
     "execution_count": 7,
     "metadata": {},
     "output_type": "execute_result"
    }
   ],
   "source": [
    "from sklearn.preprocessing import OneHotEncoder\n",
    "color = pd.DataFrame({'colors': ['red', 'blue', 'green', 'yellow']})\n",
    "encOH = OneHotEncoder(sparse=False)\n",
    "new = encOH.fit_transform(color)\n",
    "new"
   ]
  },
  {
   "cell_type": "code",
   "execution_count": 8,
   "id": "0cf333ac",
   "metadata": {},
   "outputs": [
    {
     "data": {
      "text/html": [
       "<div>\n",
       "<style scoped>\n",
       "    .dataframe tbody tr th:only-of-type {\n",
       "        vertical-align: middle;\n",
       "    }\n",
       "\n",
       "    .dataframe tbody tr th {\n",
       "        vertical-align: top;\n",
       "    }\n",
       "\n",
       "    .dataframe thead th {\n",
       "        text-align: right;\n",
       "    }\n",
       "</style>\n",
       "<table border=\"1\" class=\"dataframe\">\n",
       "  <thead>\n",
       "    <tr style=\"text-align: right;\">\n",
       "      <th></th>\n",
       "      <th>colors</th>\n",
       "    </tr>\n",
       "  </thead>\n",
       "  <tbody>\n",
       "    <tr>\n",
       "      <th>0</th>\n",
       "      <td>red</td>\n",
       "    </tr>\n",
       "    <tr>\n",
       "      <th>1</th>\n",
       "      <td>blue</td>\n",
       "    </tr>\n",
       "    <tr>\n",
       "      <th>2</th>\n",
       "      <td>green</td>\n",
       "    </tr>\n",
       "    <tr>\n",
       "      <th>3</th>\n",
       "      <td>yellow</td>\n",
       "    </tr>\n",
       "  </tbody>\n",
       "</table>\n",
       "</div>"
      ],
      "text/plain": [
       "   colors\n",
       "0     red\n",
       "1    blue\n",
       "2   green\n",
       "3  yellow"
      ]
     },
     "execution_count": 8,
     "metadata": {},
     "output_type": "execute_result"
    }
   ],
   "source": [
    "color"
   ]
  },
  {
   "cell_type": "markdown",
   "id": "0e623a63",
   "metadata": {},
   "source": [
    "# Q3: Apply Frequency Encoding. "
   ]
  },
  {
   "cell_type": "code",
   "execution_count": 46,
   "id": "22f1d42c",
   "metadata": {},
   "outputs": [
    {
     "name": "stdout",
     "output_type": "stream",
     "text": [
      "[2 3 1]\n"
     ]
    }
   ],
   "source": [
    "from sklearn.feature_extraction.text import CountVectorizer\n",
    "weather = ['hot', 'cold', 'hot', 'warm', 'cold', 'hot'] \n",
    "\n",
    "fe = CountVectorizer()\n",
    "fe_fit = fe.fit_transform(weather)\n",
    "\n",
    "print(fe_fit.toarray().sum(axis=0))"
   ]
  },
  {
   "cell_type": "markdown",
   "id": "2bd30d8c",
   "metadata": {},
   "source": [
    "# Q4: Apply Binary Encoding. "
   ]
  },
  {
   "cell_type": "code",
   "execution_count": 16,
   "id": "e2eb4cc4",
   "metadata": {},
   "outputs": [],
   "source": [
    "from category_encoders import BinaryEncoder"
   ]
  },
  {
   "cell_type": "code",
   "execution_count": 29,
   "id": "a46e56eb",
   "metadata": {},
   "outputs": [
    {
     "data": {
      "text/html": [
       "<div>\n",
       "<style scoped>\n",
       "    .dataframe tbody tr th:only-of-type {\n",
       "        vertical-align: middle;\n",
       "    }\n",
       "\n",
       "    .dataframe tbody tr th {\n",
       "        vertical-align: top;\n",
       "    }\n",
       "\n",
       "    .dataframe thead th {\n",
       "        text-align: right;\n",
       "    }\n",
       "</style>\n",
       "<table border=\"1\" class=\"dataframe\">\n",
       "  <thead>\n",
       "    <tr style=\"text-align: right;\">\n",
       "      <th></th>\n",
       "      <th>rating_0</th>\n",
       "      <th>rating_1</th>\n",
       "      <th>rating_2</th>\n",
       "    </tr>\n",
       "  </thead>\n",
       "  <tbody>\n",
       "    <tr>\n",
       "      <th>0</th>\n",
       "      <td>0</td>\n",
       "      <td>0</td>\n",
       "      <td>1</td>\n",
       "    </tr>\n",
       "    <tr>\n",
       "      <th>1</th>\n",
       "      <td>0</td>\n",
       "      <td>1</td>\n",
       "      <td>0</td>\n",
       "    </tr>\n",
       "    <tr>\n",
       "      <th>2</th>\n",
       "      <td>0</td>\n",
       "      <td>1</td>\n",
       "      <td>1</td>\n",
       "    </tr>\n",
       "    <tr>\n",
       "      <th>3</th>\n",
       "      <td>1</td>\n",
       "      <td>0</td>\n",
       "      <td>0</td>\n",
       "    </tr>\n",
       "    <tr>\n",
       "      <th>4</th>\n",
       "      <td>0</td>\n",
       "      <td>0</td>\n",
       "      <td>1</td>\n",
       "    </tr>\n",
       "  </tbody>\n",
       "</table>\n",
       "</div>"
      ],
      "text/plain": [
       "   rating_0  rating_1  rating_2\n",
       "0         0         0         1\n",
       "1         0         1         0\n",
       "2         0         1         1\n",
       "3         1         0         0\n",
       "4         0         0         1"
      ]
     },
     "execution_count": 29,
     "metadata": {},
     "output_type": "execute_result"
    }
   ],
   "source": [
    "bi = BinaryEncoder()\n",
    "bi_enc = bi.fit_transform(df['rating'])\n",
    "bi_enc"
   ]
  },
  {
   "cell_type": "code",
   "execution_count": 30,
   "id": "d2ad283f",
   "metadata": {},
   "outputs": [
    {
     "data": {
      "text/html": [
       "<div>\n",
       "<style scoped>\n",
       "    .dataframe tbody tr th:only-of-type {\n",
       "        vertical-align: middle;\n",
       "    }\n",
       "\n",
       "    .dataframe tbody tr th {\n",
       "        vertical-align: top;\n",
       "    }\n",
       "\n",
       "    .dataframe thead th {\n",
       "        text-align: right;\n",
       "    }\n",
       "</style>\n",
       "<table border=\"1\" class=\"dataframe\">\n",
       "  <thead>\n",
       "    <tr style=\"text-align: right;\">\n",
       "      <th></th>\n",
       "      <th>names</th>\n",
       "      <th>rating</th>\n",
       "      <th>salary</th>\n",
       "      <th>rating_0</th>\n",
       "      <th>rating_1</th>\n",
       "      <th>rating_2</th>\n",
       "    </tr>\n",
       "  </thead>\n",
       "  <tbody>\n",
       "    <tr>\n",
       "      <th>0</th>\n",
       "      <td>ahmed</td>\n",
       "      <td>Very Unhappy</td>\n",
       "      <td>7000</td>\n",
       "      <td>0</td>\n",
       "      <td>0</td>\n",
       "      <td>1</td>\n",
       "    </tr>\n",
       "    <tr>\n",
       "      <th>1</th>\n",
       "      <td>saeed</td>\n",
       "      <td>Unhappy</td>\n",
       "      <td>5300</td>\n",
       "      <td>0</td>\n",
       "      <td>1</td>\n",
       "      <td>0</td>\n",
       "    </tr>\n",
       "    <tr>\n",
       "      <th>2</th>\n",
       "      <td>khalid</td>\n",
       "      <td>Neutral</td>\n",
       "      <td>8000</td>\n",
       "      <td>0</td>\n",
       "      <td>1</td>\n",
       "      <td>1</td>\n",
       "    </tr>\n",
       "    <tr>\n",
       "      <th>3</th>\n",
       "      <td>ali</td>\n",
       "      <td>happy</td>\n",
       "      <td>11000</td>\n",
       "      <td>1</td>\n",
       "      <td>0</td>\n",
       "      <td>0</td>\n",
       "    </tr>\n",
       "    <tr>\n",
       "      <th>4</th>\n",
       "      <td>faris</td>\n",
       "      <td>Very Unhappy</td>\n",
       "      <td>15000</td>\n",
       "      <td>0</td>\n",
       "      <td>0</td>\n",
       "      <td>1</td>\n",
       "    </tr>\n",
       "  </tbody>\n",
       "</table>\n",
       "</div>"
      ],
      "text/plain": [
       "    names        rating  salary  rating_0  rating_1  rating_2\n",
       "0   ahmed  Very Unhappy    7000         0         0         1\n",
       "1   saeed       Unhappy    5300         0         1         0\n",
       "2  khalid       Neutral    8000         0         1         1\n",
       "3     ali         happy   11000         1         0         0\n",
       "4   faris  Very Unhappy   15000         0         0         1"
      ]
     },
     "execution_count": 30,
     "metadata": {},
     "output_type": "execute_result"
    }
   ],
   "source": [
    "enc_df = pd.concat([df, bi_enc], axis=1)\n",
    "enc_df"
   ]
  },
  {
   "cell_type": "code",
   "execution_count": null,
   "id": "12b6ada1",
   "metadata": {},
   "outputs": [],
   "source": []
  }
 ],
 "metadata": {
  "kernelspec": {
   "display_name": "Python 3 (ipykernel)",
   "language": "python",
   "name": "python3"
  },
  "language_info": {
   "codemirror_mode": {
    "name": "ipython",
    "version": 3
   },
   "file_extension": ".py",
   "mimetype": "text/x-python",
   "name": "python",
   "nbconvert_exporter": "python",
   "pygments_lexer": "ipython3",
   "version": "3.9.13"
  }
 },
 "nbformat": 4,
 "nbformat_minor": 5
}
